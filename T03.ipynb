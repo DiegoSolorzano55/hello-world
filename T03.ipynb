{
 "cells": [
  {
   "cell_type": "markdown",
   "id": "ba88561d-0244-4c51-a7a3-409d065e2d41",
   "metadata": {},
   "source": [
    "## T03 \n",
    "Diego Solorzano Orozco \n",
    "\n",
    "04/09/2024"
   ]
  },
  {
   "cell_type": "code",
   "execution_count": 24,
   "id": "1fefc0a7-5115-4404-ae77-f35b76d6fbe5",
   "metadata": {},
   "outputs": [
    {
     "data": {
      "text/plain": [
       "(6.00000000000000, 8.00000000000000, 23.8513917599978*pi)"
      ]
     },
     "execution_count": 24,
     "metadata": {},
     "output_type": "execute_result"
    }
   ],
   "source": [
    "## Ejercicio 1\n",
    "import sympy as sp\n",
    "import numpy as np \n",
    "\n",
    "lado, base = sp.symbols('lado base')\n",
    "\n",
    "perimetro = 20  \n",
    "base_expr = perimetro - 2*lado \n",
    "\n",
    "altura = sp.sqrt(lado**2 - (base_expr/2)**2)\n",
    "\n",
    "radio = base_expr / 2\n",
    "\n",
    "\n",
    "volumen = (1/3) * sp.pi * radio**2 * altura\n",
    "\n",
    "\n",
    "volumen_derivado = sp.diff(volumen, lado)\n",
    "\n",
    "\n",
    "lado_optimo = sp.solve(volumen_derivado, lado)\n",
    "\n",
    "\n",
    "base_optima = base_expr.subs(lado, lado_optimo[0])\n",
    "\n",
    "\n",
    "lado_optimo[0], base_optima, volumen.subs(lado, lado_optimo[0])\n"
   ]
  },
  {
   "cell_type": "code",
   "execution_count": 26,
   "id": "02b21d6f-4156-4ad9-a63b-d3d19619e076",
   "metadata": {},
   "outputs": [
    {
     "data": {
      "text/plain": [
       "(1.5, 3.00000000000000, 4.50000000000000)"
      ]
     },
     "execution_count": 26,
     "metadata": {},
     "output_type": "execute_result"
    }
   ],
   "source": [
    "## Ejercicio 2\n",
    "altura, travesano = sp.symbols('altura travesano')\n",
    "longitud_total = 6  # metros\n",
    "travesano_expr = longitud_total - 2*altura  \n",
    "area_expr = altura * travesano_expr\n",
    "alturas = []\n",
    "travesanos = []\n",
    "areas = []\n",
    "for i in range(1, 300):  \n",
    "    altura_valor = i / 100  # Convertimos a metros\n",
    "    travesano_valor = travesano_expr.subs(altura, altura_valor)\n",
    "    area_valor = area_expr.subs(altura, altura_valor).evalf()  \n",
    "    \n",
    "\n",
    "    alturas.append(altura_valor)\n",
    "    travesanos.append(travesano_valor)\n",
    "    areas.append(area_valor)\n",
    "\n",
    "area_maxima = max(areas)\n",
    "indice_maximo = areas.index(area_maxima)\n",
    "altura_optima = alturas[indice_maximo]\n",
    "travesano_optimo = travesanos[indice_maximo]\n",
    "\n",
    "altura_optima, travesano_optimo, area_maxima\n"
   ]
  },
  {
   "cell_type": "code",
   "execution_count": 34,
   "id": "f7664505-78dc-4a5b-a0cd-c30b68d64f32",
   "metadata": {},
   "outputs": [
    {
     "data": {
      "text/plain": [
       "(19.636363636363637, 13.7990297898257)"
      ]
     },
     "execution_count": 34,
     "metadata": {},
     "output_type": "execute_result"
    }
   ],
   "source": [
    "\n",
    "## Ejercico 3 \n",
    "altura, ancho = sp.symbols('altura ancho')\n",
    "diametro = 24\n",
    "eq = sp.Eq(ancho**2 + altura**2, diametro**2)\n",
    "ancho_expr = sp.sqrt(diametro**2 - altura**2)\n",
    "resistencia = ancho_expr * altura**2\n",
    "\n",
    "\n",
    "alturas = np.linspace(0, diametro, 100)  # Valores de altura entre 0 y el diámetro\n",
    "resistencias = [resistencia.subs(altura, val).evalf() for val in alturas]\n",
    "\n",
    "\n",
    "max_index = resistencias.index(max(resistencias))\n",
    "altura_optima = alturas[max_index]\n",
    "ancho_optimo = ancho_expr.subs(altura, altura_optima).evalf()\n",
    "\n",
    "\n",
    "altura_optima, ancho_optimo\n",
    "\n"
   ]
  },
  {
   "cell_type": "code",
   "execution_count": 40,
   "id": "bcb2ef47-a50b-40c2-a82b-192b3e4c3e16",
   "metadata": {},
   "outputs": [
    {
     "data": {
      "text/latex": [
       "$\\displaystyle 0$"
      ],
      "text/plain": [
       "0"
      ]
     },
     "execution_count": 40,
     "metadata": {},
     "output_type": "execute_result"
    }
   ],
   "source": [
    "## Ejercicio 4\n",
    "\n",
    "h = sp.symbols('h')\n",
    "r = 2 \n",
    "s = sp.sqrt(h**2 + r**2)\n",
    "sin_alpha = r / s\n",
    "I = sin_alpha / s**2\n",
    "dI_dh = sp.diff(I, h)\n",
    "\n",
    "altura_optima = sp.solve(dI_dh, h)[0]\n",
    "\n",
    "altura_optima\n"
   ]
  },
  {
   "cell_type": "code",
   "execution_count": null,
   "id": "9579631a-3008-41a0-bc58-323786306118",
   "metadata": {},
   "outputs": [],
   "source": []
  }
 ],
 "metadata": {
  "kernelspec": {
   "display_name": "Python 3 (ipykernel)",
   "language": "python",
   "name": "python3"
  },
  "language_info": {
   "codemirror_mode": {
    "name": "ipython",
    "version": 3
   },
   "file_extension": ".py",
   "mimetype": "text/x-python",
   "name": "python",
   "nbconvert_exporter": "python",
   "pygments_lexer": "ipython3",
   "version": "3.12.4"
  }
 },
 "nbformat": 4,
 "nbformat_minor": 5
}
