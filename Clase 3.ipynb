{
 "cells": [
  {
   "cell_type": "markdown",
   "id": "3d47130c-a306-4866-a873-6eaa831967f8",
   "metadata": {},
   "source": [
    "## Repaso de python- 3\n"
   ]
  },
  {
   "cell_type": "markdown",
   "id": "0450f6ed-5cc8-4180-bfc2-a89fad13e29b",
   "metadata": {},
   "source": [
    "## Diccionarios"
   ]
  },
  {
   "cell_type": "code",
   "execution_count": 5,
   "id": "d3da5ca1-c7a4-4801-a5f0-e14caa739a85",
   "metadata": {},
   "outputs": [],
   "source": [
    "lista = [1, 2, 3, 'a', 'b', 'c']"
   ]
  },
  {
   "cell_type": "markdown",
   "id": "a955522f-8acd-4390-b7d4-734448481c93",
   "metadata": {},
   "source": [
    "lista [3] # las listas empiezan a contar desde cero"
   ]
  },
  {
   "cell_type": "code",
   "execution_count": 9,
   "id": "f6efb9e0-17d6-4786-a230-c2f2d0ee09e3",
   "metadata": {
    "scrolled": true
   },
   "outputs": [
    {
     "data": {
      "text/plain": [
       "'a'"
      ]
     },
     "execution_count": 9,
     "metadata": {},
     "output_type": "execute_result"
    }
   ],
   "source": [
    "'a'"
   ]
  },
  {
   "cell_type": "code",
   "execution_count": 11,
   "id": "09ca389d-b9c7-4a1a-9495-7ce3012f47d0",
   "metadata": {},
   "outputs": [],
   "source": [
    "longitud = len (lista)\n"
   ]
  },
  {
   "cell_type": "code",
   "execution_count": 13,
   "id": "32c66bb4-c507-4fdf-ad63-6cfcead0baa4",
   "metadata": {},
   "outputs": [],
   "source": [
    "#lista.pop() #Quita el ultimo\n",
    "#lista.pop(2) # quita el tercer elemento\n",
    "#lista.append(x) #agrega al final\n",
    "#lista.insert (2,x) #inserta x antes del elemento con indice 2"
   ]
  },
  {
   "cell_type": "code",
   "execution_count": 19,
   "id": "bc0bd8ba-82f8-41a6-b733-db6364ff1531",
   "metadata": {},
   "outputs": [],
   "source": [
    "diccionario [\"pato\"] = \"Animal con alas y pico\""
   ]
  },
  {
   "cell_type": "code",
   "execution_count": 43,
   "id": "1c31b22c-d318-49e8-b44b-7437dd7ec727",
   "metadata": {},
   "outputs": [
    {
     "data": {
      "text/plain": [
       "{740290: {'Nombre': 'Gabriel',\n",
       "  'Apellido': 'Morales',\n",
       "  'Carrera': 'Ingenieria civil',\n",
       "  'Expediente': 740290,\n",
       "  'Materias inscritas': ['Maninfo', 'Coe', 'Prup']},\n",
       " 740291: {'Nombre': 'Jorge',\n",
       "  'Apellido': 'Perez',\n",
       "  'Carrera': 'Ingenieria civil',\n",
       "  'Expediente': 740291,\n",
       "  'Materias inscritas': ['Maninfo', 'Coe', 'Prup']}}"
      ]
     },
     "execution_count": 43,
     "metadata": {},
     "output_type": "execute_result"
    }
   ],
   "source": [
    "gamr = {\n",
    "    \"Nombre\": \"Gabriel\",\n",
    "    \"Apellido\" : \"Morales\",\n",
    "    \"Carrera\" : \"Ingenieria civil\",\n",
    "    \"Expediente\" : 740290,\n",
    "    \"Materias inscritas\": [\"Maninfo\", \"Coe\", \"Prup\"]\n",
    "}\n",
    "\n",
    "jpz = {\n",
    "    \"Nombre\": \"Jorge\",\n",
    "    \"Apellido\" : \"Perez\",\n",
    "    \"Carrera\" : \"Ingenieria civil\",\n",
    "    \"Expediente\" : 740291,\n",
    "    \"Materias inscritas\": [\"Maninfo\", \"Coe\", \"Prup\"]\n",
    "}\n",
    "\n",
    "alumnos_inscritos = {\n",
    "    740290: gamr,\n",
    "    740291: jpz\n",
    "}\n",
    "alumnos_inscritos"
   ]
  },
  {
   "cell_type": "markdown",
   "id": "e9d2306e-9d90-4724-8ae7-fd73e404dac3",
   "metadata": {},
   "source": [
    "## Librerias\n"
   ]
  },
  {
   "cell_type": "code",
   "execution_count": 24,
   "id": "19b11d6d-099d-4cc5-ae0b-96e365c7aefb",
   "metadata": {},
   "outputs": [
    {
     "data": {
      "text/plain": [
       "array([1, 2, 3])"
      ]
     },
     "execution_count": 24,
     "metadata": {},
     "output_type": "execute_result"
    }
   ],
   "source": [
    "import numpy as np\n",
    "a= np.array([1,2,3])\n",
    "b= np.array([4,5,6])\n",
    "\n",
    "a"
   ]
  },
  {
   "cell_type": "code",
   "execution_count": 26,
   "id": "b5bc8cf4-bbad-4277-b6a6-1a34b8120757",
   "metadata": {},
   "outputs": [
    {
     "data": {
      "text/plain": [
       "array([[4, 5, 6]])"
      ]
     },
     "execution_count": 26,
     "metadata": {},
     "output_type": "execute_result"
    }
   ],
   "source": [
    "c= np.array([[4,5,6]])\n",
    "c"
   ]
  },
  {
   "cell_type": "code",
   "execution_count": 32,
   "id": "08ea8ad9-89f7-421d-bc6a-57f1ee8160e7",
   "metadata": {},
   "outputs": [
    {
     "data": {
      "text/plain": [
       "array([[4],\n",
       "       [5],\n",
       "       [6]])"
      ]
     },
     "execution_count": 32,
     "metadata": {},
     "output_type": "execute_result"
    }
   ],
   "source": [
    "d= np.array([[4],\n",
    "             [5],\n",
    "             [6]])\n",
    "d\n"
   ]
  },
  {
   "cell_type": "code",
   "execution_count": 45,
   "id": "830f606b-8a7b-4c56-8dba-477154e9d746",
   "metadata": {
    "scrolled": true
   },
   "outputs": [
    {
     "data": {
      "text/plain": [
       "array([[77]])"
      ]
     },
     "execution_count": 45,
     "metadata": {},
     "output_type": "execute_result"
    }
   ],
   "source": [
    "c @ d"
   ]
  },
  {
   "cell_type": "markdown",
   "id": "ee89eab2-1d18-42e9-9537-66e23a4077d0",
   "metadata": {},
   "source": [
    "np.exp(x+2)\n",
    "np.sin(x)\n",
    "np.cos(x)\n",
    "np.log(x)\n",
    "np.log10(x)"
   ]
  },
  {
   "cell_type": "markdown",
   "id": "9c90a3de-53b5-463c-9539-f23532f5f693",
   "metadata": {},
   "source": [
    "## Pandas"
   ]
  },
  {
   "cell_type": "code",
   "execution_count": 64,
   "id": "395575c8-5520-4eac-b8af-37729c506965",
   "metadata": {},
   "outputs": [],
   "source": [
    "import pandas as pd \n",
    "\n",
    "datos= pd.read_excel(\"datosPe.xlsx\")"
   ]
  },
  {
   "cell_type": "code",
   "execution_count": 66,
   "id": "c60879eb-2ff6-4ee5-b103-e0089cd14290",
   "metadata": {},
   "outputs": [
    {
     "data": {
      "text/plain": [
       "Index(['ID Persona', 'Peso', 'Estatura'], dtype='object')"
      ]
     },
     "execution_count": 66,
     "metadata": {},
     "output_type": "execute_result"
    }
   ],
   "source": [
    "datos.columns"
   ]
  },
  {
   "cell_type": "code",
   "execution_count": 81,
   "id": "167566bd-2c08-4883-a112-b7d6079c4189",
   "metadata": {},
   "outputs": [
    {
     "data": {
      "text/html": [
       "<div>\n",
       "<style scoped>\n",
       "    .dataframe tbody tr th:only-of-type {\n",
       "        vertical-align: middle;\n",
       "    }\n",
       "\n",
       "    .dataframe tbody tr th {\n",
       "        vertical-align: top;\n",
       "    }\n",
       "\n",
       "    .dataframe thead th {\n",
       "        text-align: right;\n",
       "    }\n",
       "</style>\n",
       "<table border=\"1\" class=\"dataframe\">\n",
       "  <thead>\n",
       "    <tr style=\"text-align: right;\">\n",
       "      <th></th>\n",
       "      <th>ID Persona</th>\n",
       "      <th>Peso</th>\n",
       "      <th>Estatura</th>\n",
       "      <th>Ejemplo</th>\n",
       "      <th>IMC</th>\n",
       "    </tr>\n",
       "  </thead>\n",
       "  <tbody>\n",
       "    <tr>\n",
       "      <th>58</th>\n",
       "      <td>59</td>\n",
       "      <td>54</td>\n",
       "      <td>1.92</td>\n",
       "      <td>0</td>\n",
       "      <td>14.648438</td>\n",
       "    </tr>\n",
       "  </tbody>\n",
       "</table>\n",
       "</div>"
      ],
      "text/plain": [
       "    ID Persona  Peso  Estatura  Ejemplo        IMC\n",
       "58          59    54      1.92        0  14.648438"
      ]
     },
     "execution_count": 81,
     "metadata": {},
     "output_type": "execute_result"
    }
   ],
   "source": [
    "datos[\"Ejemplo\"]= 0\n",
    "datos[\"IMC\"]= datos[\"Peso\"] / (datos[\"Estatura\"]**2)\n",
    "datos[ datos[\"IMC\"]<15]"
   ]
  },
  {
   "cell_type": "code",
   "execution_count": 85,
   "id": "11e93c88-3ce6-443f-bc7c-ebc5d5092bcb",
   "metadata": {},
   "outputs": [],
   "source": [
    "datos.to_excel(\"datosPE2.xlsx\")"
   ]
  },
  {
   "cell_type": "code",
   "execution_count": null,
   "id": "33460c8b-5eb1-49bd-81cc-c2bb0cc0a487",
   "metadata": {},
   "outputs": [],
   "source": []
  },
  {
   "cell_type": "markdown",
   "id": "2801e88f-0937-4c4b-bbbd-d508cbf321df",
   "metadata": {},
   "source": [
    "## matplotlib"
   ]
  },
  {
   "cell_type": "code",
   "execution_count": 89,
   "id": "de533070-d8c5-41b5-8922-12139a7f74e1",
   "metadata": {},
   "outputs": [
    {
     "data": {
      "text/plain": [
       "[<matplotlib.lines.Line2D at 0x28baf7c21b0>]"
      ]
     },
     "execution_count": 89,
     "metadata": {},
     "output_type": "execute_result"
    },
    {
     "data": {
      "image/png": "[encoded data removed]",
      "text/plain": [
       "<Figure size 640x480 with 1 Axes>"
      ]
     },
     "metadata": {},
     "output_type": "display_data"
    }
   ],
   "source": [
    "import matplotlib.pyplot as plt \n",
    "\n",
    "x = [ -3, -2, -1, 0, 1, 2, 3 ]\n",
    "y = [9, 4, 1, 0, 1, 4, 9]\n",
    "plt.figure()\n",
    "plt.plot(x,y)"
   ]
  },
  {
   "cell_type": "code",
   "execution_count": 102,
   "id": "b37f31b3-ec5e-4cef-8bc0-690606e815a9",
   "metadata": {},
   "outputs": [
    {
     "data": {
      "text/plain": [
       "<matplotlib.legend.Legend at 0x28bb0096c60>"
      ]
     },
     "execution_count": 102,
     "metadata": {},
     "output_type": "execute_result"
    },
    {
     "data": {
      "image/png": "[encoded data removed]",
      "text/plain": [
       "<Figure size 640x480 with 1 Axes>"
      ]
     },
     "metadata": {},
     "output_type": "display_data"
    }
   ],
   "source": [
    "import matplotlib.pyplot as plt \n",
    "\n",
    "x = np.linspace(-3, 3, 101)\n",
    "y = x**2\n",
    "y2= -x**2 + 3\n",
    "plt.plot(x,y)\n",
    "plt.plot(x, y,label=\"primera linea\")\n",
    "plt.grid()\n",
    "plt.xlabel(\"Eje x\")\n",
    "plt.ylabel (\"Eje y\")\n",
    "plt.title(\"Gráfica\")\n",
    "plt.plot(x, y2,label=\"segunda linea\")\n",
    "plt.legend (loc=\"best\")"
   ]
  },
  {
   "cell_type": "code",
   "execution_count": null,
   "id": "577de8f0-8500-4f33-b89d-a7407e241cb0",
   "metadata": {},
   "outputs": [],
   "source": []
  }
 ],
 "metadata": {
  "kernelspec": {
   "display_name": "Python 3 (ipykernel)",
   "language": "python",
   "name": "python3"
  },
  "language_info": {
   "codemirror_mode": {
    "name": "ipython",
    "version": 3
   },
   "file_extension": ".py",
   "mimetype": "text/x-python",
   "name": "python",
   "nbconvert_exporter": "python",
   "pygments_lexer": "ipython3",
   "version": "3.12.4"
  }
 },
 "nbformat": 4,
 "nbformat_minor": 5
}
