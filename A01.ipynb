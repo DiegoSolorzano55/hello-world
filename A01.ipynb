{
 "cells": [
  {
   "cell_type": "markdown",
   "id": "786f1c30-e9b9-4a73-afc3-7c62d4950e46",
   "metadata": {},
   "source": [
    "# Numero primo"
   ]
  },
  {
   "cell_type": "code",
   "execution_count": 23,
   "id": "6920a01b-a6a0-4ae0-9d99-9815601bd218",
   "metadata": {},
   "outputs": [
    {
     "name": "stdout",
     "output_type": "stream",
     "text": [
      "456 no es primo.\n"
     ]
    }
   ],
   "source": [
    "a = 456\n",
    "i = 2\n",
    "\n",
    "while i < a:\n",
    "    if a % i == 0:\n",
    "        print(str(a) + \" no es primo.\")\n",
    "    i += 1\n",
    "    break\n",
    "else:\n",
    "    if a > 1:\n",
    "        print(str(a) + \" es primo.\")\n",
    "    else:\n",
    "        print(str(a) + \" no es primo.\")\n",
    "        "
   ]
  },
  {
   "cell_type": "code",
   "execution_count": null,
   "id": "eac00430-bd55-48ac-aff0-6fa8ff205642",
   "metadata": {},
   "outputs": [],
   "source": []
  },
  {
   "cell_type": "code",
   "execution_count": null,
   "id": "626ba5e3-ee9a-4daa-93c9-dc69187d414d",
   "metadata": {},
   "outputs": [],
   "source": []
  }
 ],
 "metadata": {
  "kernelspec": {
   "display_name": "Python 3 (ipykernel)",
   "language": "python",
   "name": "python3"
  },
  "language_info": {
   "codemirror_mode": {
    "name": "ipython",
    "version": 3
   },
   "file_extension": ".py",
   "mimetype": "text/x-python",
   "name": "python",
   "nbconvert_exporter": "python",
   "pygments_lexer": "ipython3",
   "version": "3.12.4"
  }
 },
 "nbformat": 4,
 "nbformat_minor": 5
}
