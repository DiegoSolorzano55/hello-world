{
 "cells": [
  {
   "cell_type": "markdown",
   "id": "5a7fbb43-d309-44a1-8d76-d7534b93e84a",
   "metadata": {},
   "source": [
    "### ING. CIVIL\n",
    "    TAREA #1\n",
    "    \n"
   ]
  },
  {
   "cell_type": "markdown",
   "id": "09686ea4-5d18-4ce4-90ff-5617c4d1ce45",
   "metadata": {},
   "source": [
    "*Fecha* : 12/08/2024\n",
    "\n",
    "**No se puede subrayar un texto en Jupyter**"
   ]
  },
  {
   "cell_type": "markdown",
   "id": "a6ec267b-abc2-44b5-8320-b93ae9444573",
   "metadata": {},
   "source": [
    "En esta tarea, explicare como es que calculamos los volumenes de una excavación con una sección de AutoCad.\n",
    "\n",
    "Para poder caclular el volumen de una excavación es necesario que tengamos la siguiente **información**:\n",
    "* Base superior del trapecio\n",
    "* Base inferior del trapecio\n",
    "* Altura del trapecio\n",
    "* Largo de la excavación "
   ]
  },
  {
   "cell_type": "code",
   "execution_count": null,
   "id": "ffc0bf50-c219-4409-8701-2e99723c15b7",
   "metadata": {},
   "outputs": [],
   "source": []
  },
  {
   "cell_type": "code",
   "execution_count": null,
   "id": "d86a59be-b3a9-4c4d-a8ee-5375db04317e",
   "metadata": {},
   "outputs": [],
   "source": []
  },
  {
   "cell_type": "code",
   "execution_count": null,
   "id": "3a937f5b-c8bf-4c77-ac3c-b879d281c87b",
   "metadata": {},
   "outputs": [],
   "source": []
  },
  {
   "cell_type": "markdown",
   "id": "24a839b7-0e58-40cb-9542-5b42e95eba18",
   "metadata": {},
   "source": [
    "## IMAGEN DE UN TRAPECIO\n",
    "    A continuación insertare la imagen de un trapecio para darnos una mejor idea."
   ]
  },
  {
   "cell_type": "code",
   "execution_count": 68,
   "id": "87c2f8f0-3340-404a-9334-0a601ee067bb",
   "metadata": {},
   "outputs": [
    {
     "data": {
      "text/html": [
       "<img src=\"https://andocalculando.com/wp-content/uploads/2023/02/calculo-volumen-prisma-trapezoidal.jpg\"/>"
      ],
      "text/plain": [
       "<IPython.core.display.Image object>"
      ]
     },
     "execution_count": 68,
     "metadata": {},
     "output_type": "execute_result"
    }
   ],
   "source": [
    "from IPython.display import Image\n",
    "url_imagen = 'https://andocalculando.com/wp-content/uploads/2023/02/calculo-volumen-prisma-trapezoidal.jpg'\n",
    "imagen = Image(url=url_imagen)\n",
    "imagen\n"
   ]
  },
  {
   "cell_type": "markdown",
   "id": "aded2378-af4f-47f7-a0ec-42ca66dfed83",
   "metadata": {},
   "source": [
    "## Pasos para calcular el volumen\n",
    "1. Se suma la base mayor con la base menor \n",
    "2. La suma es divida entre 2\n",
    "3. Al resultado de la división se le multiplica por la altura del trapecio\n",
    "4. Y a nuestro resultado de la multiplación se le multiplica nuestro largo\n",
    "5. Obtenemos el resultado.\n",
    "\n"
   ]
  },
  {
   "cell_type": "markdown",
   "id": "a397e7aa-7f6b-4290-b055-a959c9b3ea6a",
   "metadata": {},
   "source": [
    "## Formula para obtener el volumen\n",
    "    Supongamos que tenemos los siguientes valores: \n",
    "    * Base mayor: 3.5\n",
    "    * Base menor: 2.7\n",
    "    * Altura: 4.7\n",
    "    * Largo: 23.5\n",
    "Es cuestión de acomodar los valores en la fórmula que pondre a continuación:"
   ]
  },
  {
   "cell_type": "markdown",
   "id": "7936f9b5-120c-492c-9bea-dacfabcd90f9",
   "metadata": {},
   "source": [
    "$$ (3.5 * 2.7)/ 2 *( 4.7 ) * (23.5) $$"
   ]
  },
  {
   "cell_type": "markdown",
   "id": "6757db7e-696f-4811-8881-4262eebabb93",
   "metadata": {},
   "source": [
    "l prisma.\r\n"
   ]
  },
  {
   "cell_type": "code",
   "execution_count": null,
   "id": "dd703bcd-9f0b-472f-8474-cbbd2419216f",
   "metadata": {},
   "outputs": [],
   "source": []
  }
 ],
 "metadata": {
  "kernelspec": {
   "display_name": "Python 3 (ipykernel)",
   "language": "python",
   "name": "python3"
  },
  "language_info": {
   "codemirror_mode": {
    "name": "ipython",
    "version": 3
   },
   "file_extension": ".py",
   "mimetype": "text/x-python",
   "name": "python",
   "nbconvert_exporter": "python",
   "pygments_lexer": "ipython3",
   "version": "3.12.4"
  }
 },
 "nbformat": 4,
 "nbformat_minor": 5
}
