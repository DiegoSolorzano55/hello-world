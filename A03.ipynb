{
 "cells": [
  {
   "cell_type": "markdown",
   "id": "6f438a2c-a2d1-44f6-81bc-1a8a64c6b3d1",
   "metadata": {},
   "source": [
    "## A03 \n",
    "Diego Solorzano Orozco\n",
    "26/08/2024"
   ]
  },
  {
   "cell_type": "code",
   "execution_count": 5,
   "id": "df6b6208-8737-4848-937a-733a272725e9",
   "metadata": {},
   "outputs": [],
   "source": [
    "import pandas as pd "
   ]
  },
  {
   "cell_type": "code",
   "execution_count": 25,
   "id": "7440781d-28bf-4e83-9673-12acb339e739",
   "metadata": {},
   "outputs": [],
   "source": [
    "datos = pd.read_excel(\"datosCT.xlsx\")\n"
   ]
  },
  {
   "cell_type": "markdown",
   "id": "ecca1929-cfe7-48bf-9546-66b298e277e5",
   "metadata": {},
   "source": [
    "## Utilidad"
   ]
  },
  {
   "cell_type": "code",
   "execution_count": 28,
   "id": "7c4b67e9-92e6-4b8c-84b9-4ac568d1c3f7",
   "metadata": {},
   "outputs": [],
   "source": [
    "datos['Utilidad'] = datos['Ingreso'] - datos['Gasto']"
   ]
  },
  {
   "cell_type": "markdown",
   "id": "e89c538c-d732-469f-ad77-4aa96d1bf399",
   "metadata": {},
   "source": [
    "## Utilidad negativa"
   ]
  },
  {
   "cell_type": "code",
   "execution_count": 34,
   "id": "9569b322-6140-4c53-abfe-1ab814e77805",
   "metadata": {},
   "outputs": [],
   "source": [
    "gastos_negativos = datos[datos['Utilidad'] < 0]['Gasto']\n"
   ]
  },
  {
   "cell_type": "code",
   "execution_count": 36,
   "id": "b7a6e7dd-85fc-4f67-8f73-454b170fd6ad",
   "metadata": {},
   "outputs": [],
   "source": [
    "promedio_gastos_negativos = 0 \n",
    "if len(gastos_negativos) > 0:\n",
    "    promedio_gastos_negativos = gastos_negativos.sum() / len(gastos_negativos)"
   ]
  },
  {
   "cell_type": "code",
   "execution_count": 38,
   "id": "89adcc50-c7a1-4635-b0e0-2232a4719a7a",
   "metadata": {},
   "outputs": [],
   "source": [
    "ingresos_totales = datos['Ingreso'].sum()"
   ]
  },
  {
   "cell_type": "code",
   "execution_count": 40,
   "id": "e9bd3f8c-1b0f-4fb0-abfa-d4e29a4de81a",
   "metadata": {},
   "outputs": [
    {
     "name": "stdout",
     "output_type": "stream",
     "text": [
      "Datos con Utilidad calculada:\n",
      "    Unnamed: 0  Ingreso  Gasto  Utilidad\n",
      "0        Enero     1340   1880      -540\n",
      "1      Febrero     2590   3130      -540\n",
      "2        Marzo     3570   2140      1430\n",
      "3        Abril     4450   3370      1080\n",
      "4         Mayo     1330   2990     -1660\n",
      "5        Junio     1610   1970      -360\n",
      "6        Julio     1500   2230      -730\n",
      "7       Agosto     2270   1240      1030\n",
      "8   Septiembre     1910   1470       440\n",
      "9      Octubre     2120   2280      -160\n",
      "10   Noviembre     3950   1870      2080\n",
      "11   Diciembre     1380   3140     -1760\n",
      "\n",
      "Promedio de gastos en los meses con utilidad negativa: 2517.1428571428573\n",
      "Ingresos totales del año: 28020\n"
     ]
    }
   ],
   "source": [
    "print(\"Datos con Utilidad calculada:\")\n",
    "print(datos)\n",
    "print(\"\\nPromedio de gastos en los meses con utilidad negativa:\", promedio_gastos_negativos)\n",
    "print(\"Ingresos totales del año:\", ingresos_totales)"
   ]
  },
  {
   "cell_type": "code",
   "execution_count": null,
   "id": "acc2f431-e91a-4f2a-a70d-85d17e45c088",
   "metadata": {},
   "outputs": [],
   "source": []
  }
 ],
 "metadata": {
  "kernelspec": {
   "display_name": "Python 3 (ipykernel)",
   "language": "python",
   "name": "python3"
  },
  "language_info": {
   "codemirror_mode": {
    "name": "ipython",
    "version": 3
   },
   "file_extension": ".py",
   "mimetype": "text/x-python",
   "name": "python",
   "nbconvert_exporter": "python",
   "pygments_lexer": "ipython3",
   "version": "3.12.4"
  }
 },
 "nbformat": 4,
 "nbformat_minor": 5
}
